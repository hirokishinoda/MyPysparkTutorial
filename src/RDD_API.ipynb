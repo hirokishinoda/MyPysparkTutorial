{
 "cells": [
  {
   "cell_type": "markdown",
   "id": "4ada0604-d2ec-4311-91f3-bc4ae049974d",
   "metadata": {
    "tags": []
   },
   "source": [
    "# RDDとAPI\n",
    "\n",
    "[reference](https://blog.serverworks.co.jp/introducing-pyspark-3)"
   ]
  },
  {
   "cell_type": "markdown",
   "id": "d09cd17d-7d4f-46ae-a727-228e06a808a2",
   "metadata": {
    "jp-MarkdownHeadingCollapsed": true,
    "tags": []
   },
   "source": [
    "# Import and Setting"
   ]
  },
  {
   "cell_type": "code",
   "execution_count": 1,
   "id": "b1a820c6-53a7-411c-9cf8-2c3ffc49772e",
   "metadata": {},
   "outputs": [],
   "source": [
    "from pyspark import SparkContext, SparkConf"
   ]
  },
  {
   "cell_type": "code",
   "execution_count": null,
   "id": "1a3b521a-096a-461b-bcd0-37a208901e56",
   "metadata": {},
   "outputs": [],
   "source": [
    "conf = SparkConf().setAppName('sample API').setMaster('local')"
   ]
  },
  {
   "cell_type": "code",
   "execution_count": 3,
   "id": "8d2c7b96-1767-40c0-8607-b8c500e4f11e",
   "metadata": {},
   "outputs": [],
   "source": [
    "sc = SparkContext(conf=conf)"
   ]
  },
  {
   "cell_type": "markdown",
   "id": "3d4577f1-163a-4c55-9fc4-dc1a292c7bc8",
   "metadata": {
    "tags": []
   },
   "source": [
    "# 変換API"
   ]
  },
  {
   "cell_type": "markdown",
   "id": "3945f441-7c6e-4fcf-aedf-c89df5adf759",
   "metadata": {
    "tags": []
   },
   "source": [
    "## map"
   ]
  },
  {
   "cell_type": "code",
   "execution_count": 6,
   "id": "11b91c06-12d4-4b50-8cc3-eaf595916e8b",
   "metadata": {},
   "outputs": [],
   "source": [
    "data = [i+1 for i in range(5)]"
   ]
  },
  {
   "cell_type": "code",
   "execution_count": 12,
   "id": "51335591-e5b6-4eb0-ab60-117120f2179f",
   "metadata": {},
   "outputs": [
    {
     "data": {
      "text/plain": [
       "[1, 2, 3, 4, 5]"
      ]
     },
     "execution_count": 12,
     "metadata": {},
     "output_type": "execute_result"
    }
   ],
   "source": [
    "data"
   ]
  },
  {
   "cell_type": "code",
   "execution_count": 7,
   "id": "b8c0dc67-5d54-4e06-9815-5925c10f7652",
   "metadata": {},
   "outputs": [],
   "source": [
    "rdd = sc.parallelize(data)"
   ]
  },
  {
   "cell_type": "code",
   "execution_count": 8,
   "id": "a684c8db-f167-45de-b40e-260201708d3e",
   "metadata": {},
   "outputs": [],
   "source": [
    "mapped_rdd = rdd.map(lambda x: x**2)"
   ]
  },
  {
   "cell_type": "code",
   "execution_count": 9,
   "id": "76c649f4-58d3-44a9-9794-96f43bf536eb",
   "metadata": {},
   "outputs": [],
   "source": [
    "result = mapped_rdd.collect()"
   ]
  },
  {
   "cell_type": "code",
   "execution_count": 11,
   "id": "cd940b18-8ef5-40fa-9bc8-dfaf15c8fbfe",
   "metadata": {},
   "outputs": [
    {
     "data": {
      "text/plain": [
       "[1, 4, 9, 16, 25]"
      ]
     },
     "execution_count": 11,
     "metadata": {},
     "output_type": "execute_result"
    }
   ],
   "source": [
    "result"
   ]
  },
  {
   "cell_type": "markdown",
   "id": "df48a1c2-7e39-400b-8f7f-d2f0e3186f04",
   "metadata": {
    "tags": []
   },
   "source": [
    "## mapValues"
   ]
  },
  {
   "cell_type": "code",
   "execution_count": 13,
   "id": "7bfd873b-c9da-430c-ab02-d316ba52a213",
   "metadata": {},
   "outputs": [],
   "source": [
    "data = [\n",
    "     ('Fruits', ['Apple', 'Banana', 'Melon']),\n",
    "    ('Vegitables', ['Carrot', 'Tomato']),\n",
    "    ('Meats', ['Chicken', 'Lamb', 'Pork', 'Beef'])\n",
    "]"
   ]
  },
  {
   "cell_type": "code",
   "execution_count": 14,
   "id": "ebc77ecb-456a-4a64-938c-c39e8db648cf",
   "metadata": {},
   "outputs": [
    {
     "data": {
      "text/plain": [
       "[('Fruits', ['Apple', 'Banana', 'Melon']),\n",
       " ('Vegitables', ['Carrot', 'Tomato']),\n",
       " ('Meats', ['Chicken', 'Lamb', 'Pork', 'Beef'])]"
      ]
     },
     "execution_count": 14,
     "metadata": {},
     "output_type": "execute_result"
    }
   ],
   "source": [
    "data"
   ]
  },
  {
   "cell_type": "code",
   "execution_count": 22,
   "id": "06aea827-5c7a-4557-9b77-17d0f0cc68fb",
   "metadata": {},
   "outputs": [],
   "source": [
    "rdd = sc.parallelize(data)"
   ]
  },
  {
   "cell_type": "code",
   "execution_count": 23,
   "id": "e204212d-6fca-402c-8c85-353331f9d778",
   "metadata": {},
   "outputs": [],
   "source": [
    "grouped_rdd = rdd.mapValues(lambda x: len(x))"
   ]
  },
  {
   "cell_type": "code",
   "execution_count": 24,
   "id": "c1bf6c0e-95af-4883-94b8-33f38f4a4d08",
   "metadata": {},
   "outputs": [],
   "source": [
    "result = grouped_rdd.collect()"
   ]
  },
  {
   "cell_type": "code",
   "execution_count": 25,
   "id": "496332aa-3de1-4758-a103-3e8bc1c06f5f",
   "metadata": {},
   "outputs": [
    {
     "data": {
      "text/plain": [
       "[('Fruits', 3), ('Vegitables', 2), ('Meats', 4)]"
      ]
     },
     "execution_count": 25,
     "metadata": {},
     "output_type": "execute_result"
    }
   ],
   "source": [
    "result"
   ]
  },
  {
   "cell_type": "markdown",
   "id": "8ac059fb-938b-4a75-b918-6ee4fe9d1acf",
   "metadata": {},
   "source": [
    "## groupByKey"
   ]
  },
  {
   "cell_type": "code",
   "execution_count": 26,
   "id": "ca19bfc9-b427-4ad5-a60e-76f8e582c850",
   "metadata": {},
   "outputs": [],
   "source": [
    "data = [\n",
    "    ('Fruits', 'Apple'),\n",
    "    ('Vegitables', 'Carrot'),\n",
    "    ('Meats', 'Chicken'),\n",
    "    ('Fruits', 'Banana'),\n",
    "    ('Vegitables', 'Tomato'),\n",
    "    ('Meats', 'Pork'),\n",
    "    ('etc', 'Rice')\n",
    "]"
   ]
  },
  {
   "cell_type": "code",
   "execution_count": 27,
   "id": "a57535aa-4616-47ea-8fa5-2b3b34eab25a",
   "metadata": {},
   "outputs": [
    {
     "data": {
      "text/plain": [
       "[('Fruits', 'Apple'),\n",
       " ('Vegitables', 'Carrot'),\n",
       " ('Meats', 'Chicken'),\n",
       " ('Fruits', 'Banana'),\n",
       " ('Vegitables', 'Tomato'),\n",
       " ('Meats', 'Pork'),\n",
       " ('etc', 'Rice')]"
      ]
     },
     "execution_count": 27,
     "metadata": {},
     "output_type": "execute_result"
    }
   ],
   "source": [
    "data"
   ]
  },
  {
   "cell_type": "code",
   "execution_count": 28,
   "id": "d622fe31-b706-4147-a0a4-5f036feb89f5",
   "metadata": {},
   "outputs": [],
   "source": [
    "rdd = sc.parallelize(data)"
   ]
  },
  {
   "cell_type": "code",
   "execution_count": 29,
   "id": "6864fb36-fbd9-4e5f-81ae-6c482b25b94d",
   "metadata": {},
   "outputs": [],
   "source": [
    "grouped_rdd = rdd.groupByKey().mapValues(list)"
   ]
  },
  {
   "cell_type": "code",
   "execution_count": 30,
   "id": "4db54b6e-bbd6-4d45-ab08-b6015613e264",
   "metadata": {},
   "outputs": [],
   "source": [
    "result = grouped_rdd.collect()"
   ]
  },
  {
   "cell_type": "code",
   "execution_count": 31,
   "id": "1e84865c-e56c-4e76-a019-d4ab4019e851",
   "metadata": {},
   "outputs": [
    {
     "data": {
      "text/plain": [
       "[('Fruits', ['Apple', 'Banana']),\n",
       " ('Vegitables', ['Carrot', 'Tomato']),\n",
       " ('Meats', ['Chicken', 'Pork']),\n",
       " ('etc', ['Rice'])]"
      ]
     },
     "execution_count": 31,
     "metadata": {},
     "output_type": "execute_result"
    }
   ],
   "source": [
    "result"
   ]
  },
  {
   "cell_type": "markdown",
   "id": "7e1ad2ca-0f18-4b2a-8f82-c9facf26deeb",
   "metadata": {},
   "source": [
    "## filter"
   ]
  },
  {
   "cell_type": "code",
   "execution_count": 38,
   "id": "4a441ca4-0ec0-4fe5-a84a-203a8c992e2a",
   "metadata": {},
   "outputs": [],
   "source": [
    "data = [i+1 for i in range(5)]"
   ]
  },
  {
   "cell_type": "code",
   "execution_count": 39,
   "id": "3f06a36d-4f42-466f-8edc-1f63854d8733",
   "metadata": {},
   "outputs": [
    {
     "data": {
      "text/plain": [
       "[1, 2, 3, 4, 5]"
      ]
     },
     "execution_count": 39,
     "metadata": {},
     "output_type": "execute_result"
    }
   ],
   "source": [
    "data"
   ]
  },
  {
   "cell_type": "code",
   "execution_count": 40,
   "id": "ee94160f-144e-4c43-b297-b4719922c51b",
   "metadata": {},
   "outputs": [],
   "source": [
    "rdd = sc.parallelize(data)"
   ]
  },
  {
   "cell_type": "code",
   "execution_count": 41,
   "id": "9dbcb268-0c02-4fcb-bab9-bc8c1ba77f47",
   "metadata": {},
   "outputs": [],
   "source": [
    "filtered_rdd = rdd.filter(lambda x: x > 3)"
   ]
  },
  {
   "cell_type": "code",
   "execution_count": 42,
   "id": "df50bf38-6140-4da8-a8e7-2c19022c1d08",
   "metadata": {},
   "outputs": [],
   "source": [
    "result = filtered_rdd.collect()"
   ]
  },
  {
   "cell_type": "code",
   "execution_count": 43,
   "id": "3aa16d3b-62ce-453b-b336-484d5208ff71",
   "metadata": {},
   "outputs": [
    {
     "data": {
      "text/plain": [
       "[4, 5]"
      ]
     },
     "execution_count": 43,
     "metadata": {},
     "output_type": "execute_result"
    }
   ],
   "source": [
    "result"
   ]
  },
  {
   "cell_type": "markdown",
   "id": "11d60204-d1f6-4378-9753-20ee669ef8bb",
   "metadata": {},
   "source": [
    "## union"
   ]
  },
  {
   "cell_type": "code",
   "execution_count": 44,
   "id": "400e51e8-3b08-4dc6-a7f6-4055c19867f4",
   "metadata": {},
   "outputs": [],
   "source": [
    "data1 = ['aa', 'bb', 'cc']\n",
    "data2 = ['dd', 'ee', 'ff']"
   ]
  },
  {
   "cell_type": "code",
   "execution_count": 45,
   "id": "eb63b0fb-28f2-4343-837c-471a4cce9345",
   "metadata": {},
   "outputs": [],
   "source": [
    "rdd1, rdd2 = sc.parallelize(data1), sc.parallelize(data2)"
   ]
  },
  {
   "cell_type": "code",
   "execution_count": 46,
   "id": "c40236db-f218-4475-9377-1d18fae6fff0",
   "metadata": {},
   "outputs": [],
   "source": [
    "rdd1, rdd2 = sc.parallelize(data1), sc.parallelize(data2)"
   ]
  },
  {
   "cell_type": "code",
   "execution_count": 47,
   "id": "2a36f92c-bcce-4195-8303-580c9fe14704",
   "metadata": {},
   "outputs": [],
   "source": [
    "union_rdd = rdd1.union(rdd2)"
   ]
  },
  {
   "cell_type": "code",
   "execution_count": 48,
   "id": "cb9f3e78-7153-43e4-89ca-53b742630137",
   "metadata": {},
   "outputs": [],
   "source": [
    "result = union_rdd.collect()"
   ]
  },
  {
   "cell_type": "code",
   "execution_count": 49,
   "id": "ae0a7fd1-3c40-4334-a442-3203d4158f55",
   "metadata": {},
   "outputs": [
    {
     "data": {
      "text/plain": [
       "['aa', 'bb', 'cc', 'dd', 'ee', 'ff']"
      ]
     },
     "execution_count": 49,
     "metadata": {},
     "output_type": "execute_result"
    }
   ],
   "source": [
    "result"
   ]
  },
  {
   "cell_type": "markdown",
   "id": "e1b77d1d-2d4c-4656-907c-c96b75a6c86b",
   "metadata": {},
   "source": [
    "# 実行API"
   ]
  },
  {
   "cell_type": "markdown",
   "id": "d9c00945-43bc-4638-9ede-3915277d557d",
   "metadata": {},
   "source": [
    "## collect"
   ]
  },
  {
   "cell_type": "code",
   "execution_count": 50,
   "id": "d0a5eee1-7b29-4620-b916-3ac6e5b9c758",
   "metadata": {},
   "outputs": [],
   "source": [
    "data = [i + 1 for i in range(5)]"
   ]
  },
  {
   "cell_type": "code",
   "execution_count": 51,
   "id": "72d2f705-37c6-4fd2-a1d6-fa1467d80516",
   "metadata": {},
   "outputs": [
    {
     "data": {
      "text/plain": [
       "[1, 2, 3, 4, 5]"
      ]
     },
     "execution_count": 51,
     "metadata": {},
     "output_type": "execute_result"
    }
   ],
   "source": [
    "data"
   ]
  },
  {
   "cell_type": "code",
   "execution_count": 52,
   "id": "02a14ed4-5b4d-43b6-9fa3-cf8f7db9dae1",
   "metadata": {},
   "outputs": [],
   "source": [
    "rdd = sc.parallelize(data)"
   ]
  },
  {
   "cell_type": "code",
   "execution_count": 54,
   "id": "84f382c1-1163-4e67-89ef-cbe279eef452",
   "metadata": {},
   "outputs": [],
   "source": [
    "result = rdd.collect()"
   ]
  },
  {
   "cell_type": "code",
   "execution_count": 55,
   "id": "1e148d3c-c56a-4747-b49e-27c43f9caf8e",
   "metadata": {},
   "outputs": [
    {
     "data": {
      "text/plain": [
       "[1, 2, 3, 4, 5]"
      ]
     },
     "execution_count": 55,
     "metadata": {},
     "output_type": "execute_result"
    }
   ],
   "source": [
    "result"
   ]
  },
  {
   "cell_type": "markdown",
   "id": "da355153-cf8b-48a3-b5e4-eba1b295b977",
   "metadata": {},
   "source": [
    "## count"
   ]
  },
  {
   "cell_type": "code",
   "execution_count": 56,
   "id": "4b27881b-71a9-4340-a7f3-abac4cfb7380",
   "metadata": {},
   "outputs": [],
   "source": [
    "data = [i+1 for i in range(5)]"
   ]
  },
  {
   "cell_type": "code",
   "execution_count": 57,
   "id": "f5c4a15b-0bf2-4588-ad9a-1c4b9f58e71f",
   "metadata": {},
   "outputs": [
    {
     "data": {
      "text/plain": [
       "[1, 2, 3, 4, 5]"
      ]
     },
     "execution_count": 57,
     "metadata": {},
     "output_type": "execute_result"
    }
   ],
   "source": [
    "data"
   ]
  },
  {
   "cell_type": "code",
   "execution_count": 58,
   "id": "1df296e3-7a0b-4905-a3c3-35e61d7e1e52",
   "metadata": {},
   "outputs": [],
   "source": [
    "rdd = sc.parallelize(data)"
   ]
  },
  {
   "cell_type": "code",
   "execution_count": 59,
   "id": "f769de50-616b-45bd-b45f-e0fd921b5055",
   "metadata": {},
   "outputs": [],
   "source": [
    "result = rdd.count()"
   ]
  },
  {
   "cell_type": "code",
   "execution_count": 60,
   "id": "b6407111-f561-4a76-9d00-408d03ce1b0a",
   "metadata": {},
   "outputs": [
    {
     "data": {
      "text/plain": [
       "5"
      ]
     },
     "execution_count": 60,
     "metadata": {},
     "output_type": "execute_result"
    }
   ],
   "source": [
    "result"
   ]
  },
  {
   "cell_type": "markdown",
   "id": "7786693a-bd0c-4bad-bf6a-d58a012f5291",
   "metadata": {},
   "source": [
    "## top"
   ]
  },
  {
   "cell_type": "code",
   "execution_count": 61,
   "id": "ed0b1d2c-dce0-40c2-9b0b-85cd1f9d10ec",
   "metadata": {},
   "outputs": [],
   "source": [
    "data = [i+1 for i in range(5)]"
   ]
  },
  {
   "cell_type": "code",
   "execution_count": 62,
   "id": "345f12ff-dae7-410b-84d8-d0f940c8de24",
   "metadata": {},
   "outputs": [],
   "source": [
    "rdd = sc.parallelize(data)"
   ]
  },
  {
   "cell_type": "code",
   "execution_count": 63,
   "id": "0b4cdb13-5730-4bbe-9a5f-bae106ade6d5",
   "metadata": {},
   "outputs": [],
   "source": [
    "result = rdd.top(2)"
   ]
  },
  {
   "cell_type": "code",
   "execution_count": 64,
   "id": "af7d1534-de74-4c5d-9317-b62d81d1d8f9",
   "metadata": {},
   "outputs": [
    {
     "data": {
      "text/plain": [
       "[5, 4]"
      ]
     },
     "execution_count": 64,
     "metadata": {},
     "output_type": "execute_result"
    }
   ],
   "source": [
    "result"
   ]
  },
  {
   "cell_type": "markdown",
   "id": "f0d98daf-27b8-4587-883d-6a62298b4302",
   "metadata": {},
   "source": [
    "## reduce"
   ]
  },
  {
   "cell_type": "code",
   "execution_count": 65,
   "id": "4b18c164-39ae-412d-91cc-7dd5775ff80b",
   "metadata": {},
   "outputs": [],
   "source": [
    "data = [i+1 for i in range(5)]"
   ]
  },
  {
   "cell_type": "code",
   "execution_count": 69,
   "id": "50f04c88-a12a-441d-a767-5c599548b851",
   "metadata": {},
   "outputs": [
    {
     "data": {
      "text/plain": [
       "[1, 2, 3, 4, 5]"
      ]
     },
     "execution_count": 69,
     "metadata": {},
     "output_type": "execute_result"
    }
   ],
   "source": [
    "data"
   ]
  },
  {
   "cell_type": "code",
   "execution_count": 66,
   "id": "4f66ba4f-7452-476e-9e8f-8e6c5f2da0ea",
   "metadata": {},
   "outputs": [],
   "source": [
    "rdd = sc.parallelize(data)"
   ]
  },
  {
   "cell_type": "code",
   "execution_count": 67,
   "id": "e3401dee-090d-4ab6-9a8e-b02541accc98",
   "metadata": {},
   "outputs": [],
   "source": [
    "result = rdd.reduce(lambda x,y: x+y)"
   ]
  },
  {
   "cell_type": "code",
   "execution_count": 68,
   "id": "6f87f4b5-1a64-403e-9589-babdb14a2310",
   "metadata": {},
   "outputs": [
    {
     "data": {
      "text/plain": [
       "15"
      ]
     },
     "execution_count": 68,
     "metadata": {},
     "output_type": "execute_result"
    }
   ],
   "source": [
    "result"
   ]
  },
  {
   "cell_type": "markdown",
   "id": "64207f37-57c8-4055-96e5-075d679e249f",
   "metadata": {},
   "source": [
    "## saveAsTextFile"
   ]
  },
  {
   "cell_type": "code",
   "execution_count": 70,
   "id": "aabb86d9-a61c-4ad0-9424-360c75967ac7",
   "metadata": {},
   "outputs": [],
   "source": [
    "data = [i+1 for i in range(5)]"
   ]
  },
  {
   "cell_type": "code",
   "execution_count": 71,
   "id": "62ce719b-2af4-4dc3-8018-1c971247a821",
   "metadata": {},
   "outputs": [
    {
     "data": {
      "text/plain": [
       "[1, 2, 3, 4, 5]"
      ]
     },
     "execution_count": 71,
     "metadata": {},
     "output_type": "execute_result"
    }
   ],
   "source": [
    "data"
   ]
  },
  {
   "cell_type": "code",
   "execution_count": 72,
   "id": "939a61eb-7425-43c3-a88f-1b4454e4f898",
   "metadata": {},
   "outputs": [],
   "source": [
    "rdd = sc.parallelize(data)"
   ]
  },
  {
   "cell_type": "code",
   "execution_count": 73,
   "id": "639db4c5-724d-436c-9bfc-fdecd7adb14a",
   "metadata": {},
   "outputs": [],
   "source": [
    "filtered_rdd = rdd.filter(lambda x: x > 3)"
   ]
  },
  {
   "cell_type": "code",
   "execution_count": 74,
   "id": "f09af3f2-bac2-4307-b6fe-d6047fd0d2b2",
   "metadata": {},
   "outputs": [],
   "source": [
    "filtered_rdd.saveAsTextFile('/home/jovyan/result')"
   ]
  },
  {
   "cell_type": "code",
   "execution_count": null,
   "id": "810dacf3-0091-4424-8dae-01afb8bdac81",
   "metadata": {},
   "outputs": [],
   "source": []
  }
 ],
 "metadata": {
  "kernelspec": {
   "display_name": "Python 3 (ipykernel)",
   "language": "python",
   "name": "python3"
  },
  "language_info": {
   "codemirror_mode": {
    "name": "ipython",
    "version": 3
   },
   "file_extension": ".py",
   "mimetype": "text/x-python",
   "name": "python",
   "nbconvert_exporter": "python",
   "pygments_lexer": "ipython3",
   "version": "3.9.10"
  }
 },
 "nbformat": 4,
 "nbformat_minor": 5
}
