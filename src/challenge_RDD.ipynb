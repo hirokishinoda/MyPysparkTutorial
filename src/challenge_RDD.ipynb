{
 "cells": [
  {
   "cell_type": "markdown",
   "id": "d80ea05f-a247-4333-a59d-6d817d8f5326",
   "metadata": {},
   "source": [
    "# アンケート結果の集計をやってみる\n",
    "\n",
    "[reference](https://blog.serverworks.co.jp/introducing-pyspark-4)"
   ]
  },
  {
   "cell_type": "code",
   "execution_count": 1,
   "id": "4362a625-91c3-4050-a6eb-efbafba866d7",
   "metadata": {},
   "outputs": [],
   "source": [
    "from pyspark import SparkConf, SparkContext"
   ]
  },
  {
   "cell_type": "code",
   "execution_count": 2,
   "id": "20ffe961-78e8-4c2a-8dca-62d396b7e348",
   "metadata": {},
   "outputs": [],
   "source": [
    "conf = SparkConf().setMaster('local').setAppName('test_1')"
   ]
  },
  {
   "cell_type": "code",
   "execution_count": 3,
   "id": "0431fa49-6550-4cb0-b301-68f89e5762ed",
   "metadata": {},
   "outputs": [],
   "source": [
    "sc = SparkContext(conf=conf)"
   ]
  },
  {
   "cell_type": "markdown",
   "id": "2256c8f0-5f83-472c-b946-d4af3ce447bb",
   "metadata": {},
   "source": [
    "## データの読み込み"
   ]
  },
  {
   "cell_type": "code",
   "execution_count": 4,
   "id": "d1ab61d5-31de-467d-9840-0bae28197aeb",
   "metadata": {},
   "outputs": [],
   "source": [
    "origin_rdd_1 = sc.textFile('data/questionnaire_data_1.txt')"
   ]
  },
  {
   "cell_type": "code",
   "execution_count": 5,
   "id": "d1e1959e-67a2-457b-9941-cf1454b1585e",
   "metadata": {},
   "outputs": [],
   "source": [
    "origin_rdd_2 = sc.textFile('data/questionnaire_data_2.txt')"
   ]
  },
  {
   "cell_type": "code",
   "execution_count": 6,
   "id": "204e97e6-e55f-4f2e-90ed-9e33c7d572d4",
   "metadata": {},
   "outputs": [],
   "source": [
    "origin_rdd_3 = sc.textFile('data/questionnaire_data_3.txt')"
   ]
  },
  {
   "cell_type": "code",
   "execution_count": 25,
   "id": "c5fb70cc-86e0-4dda-88e3-76f43e80a381",
   "metadata": {
    "collapsed": true,
    "jupyter": {
     "outputs_hidden": true
    },
    "tags": []
   },
   "outputs": [
    {
     "data": {
      "text/plain": [
       "['長谷川 篤司,kaori07@yahoo.com,45,男,4,3',\n",
       " '山本 春香,manabusato@hotmail.com,40,男,4,3',\n",
       " '清水 翔太,asuka45@hotmail.com,29,男,2,4',\n",
       " '渡辺 知実,usuzuki@tanaka.com,66,男,1,5',\n",
       " '石川 舞,yuisaito@hotmail.com,28,女,4,5',\n",
       " '鈴木 聡太郎,miurahiroshi@okamoto.org,64,男,2,2',\n",
       " '佐藤 和也,tomoyayamamoto@kimura.jp,33,男,1,1',\n",
       " '小林 あすか,yasuhiro31@gmail.com,63,男,3,5',\n",
       " '斎藤 淳,manabuishii@kato.jp,68,男,3,2',\n",
       " '井上 くみ子,tomoyakobayashi@gmail.com,62,男,5,4',\n",
       " '山崎 七夏,sasakiyosuke@endo.com,26,女,5,1',\n",
       " '斉藤 零,ssato@hotmail.com,52,女,2,4',\n",
       " '高橋 修平,suzukisayuri@fujii.jp,46,女,5,4',\n",
       " '山下 学,momoko96@yamaguchi.net,65,男,5,1',\n",
       " '佐々木 里佳,okadamanabu@matsumoto.jp,49,男,1,2',\n",
       " '渡辺 七夏,sasakiyasuhiro@takahashi.net,41,男,4,2',\n",
       " '田中 晃,rika70@miura.jp,27,男,2,3',\n",
       " '加藤 桃子,aito@yoshida.com,28,女,3,5',\n",
       " '伊藤 健一,ltakahashi@hasegawa.net,57,男,3,4',\n",
       " '岡本 花子,mtakahashi@gmail.com,50,男,4,1',\n",
       " '加藤 舞,dinoue@hotmail.com,48,女,1,3',\n",
       " '山口 舞,yamamototomoya@ikeda.org,65,女,5,2',\n",
       " '中村 修平,eyamamoto@fujii.jp,31,男,4,5',\n",
       " '藤井 香織,manabumori@sato.com,63,女,1,1',\n",
       " '森 加奈,jun33@takahashi.org,40,女,3,1',\n",
       " '山田 修平,yokoinoue@ogawa.jp,58,男,1,5',\n",
       " '坂本 裕太,shohei19@saito.jp,44,男,1,2',\n",
       " '清水 陽子,yuisasaki@yamaguchi.jp,33,男,3,2',\n",
       " '佐藤 加奈,miki25@hayashi.org,23,女,3,4',\n",
       " '山崎 稔,kaori57@hotmail.com,23,女,5,5',\n",
       " '石井 充,sasakihanako@yahoo.com,31,男,3,2',\n",
       " '加藤 直子,yamamotoyuki@gmail.com,39,男,4,2',\n",
       " '中島 裕美子,jyamada@gmail.com,43,男,2,2',\n",
       " '佐藤 晃,asato@gmail.com,50,女,1,4',\n",
       " '木村 結衣,yokogoto@okamoto.org,22,女,5,1',\n",
       " '林 直人,smurakami@hayashi.jp,24,女,3,1',\n",
       " '橋本 千代,jun11@okada.com,37,男,5,4',\n",
       " '岡田 太一,tsubasa77@suzuki.jp,26,男,2,4',\n",
       " '池田 舞,rika00@maeda.jp,59,男,2,2',\n",
       " '小林 和也,suzukitsubasa@mori.com,51,女,3,1',\n",
       " '藤田 太一,uwatanabe@kobayashi.com,65,男,3,2',\n",
       " '山田 さゆり,nyoshida@hotmail.com,38,男,3,1',\n",
       " '佐藤 直子,nakamurananami@yahoo.com,34,男,2,2',\n",
       " '渡辺 幹,akira21@tanaka.jp,65,男,5,1',\n",
       " '加藤 陽一,suzukiharuka@hotmail.com,55,女,5,2',\n",
       " '山口 舞,satokyosuke@takahashi.org,29,女,5,5',\n",
       " '渡辺 香織,hiroshiendo@yahoo.com,40,女,2,4',\n",
       " '伊藤 さゆり,takumasato@yahoo.com,28,女,3,5',\n",
       " '伊藤 加奈,nanamiyoshida@nakamura.com,44,女,2,1',\n",
       " '鈴木 千代,yuikobayashi@hayashi.jp,66,男,5,1',\n",
       " '木村 桃子,mikeda@tanaka.com,53,女,3,5',\n",
       " '斉藤 涼平,nfujita@mori.net,67,男,3,5',\n",
       " '岡本 治,qmatsumoto@kimura.jp,38,女,1,1',\n",
       " '松本 千代,wnakamura@gmail.com,36,女,1,3',\n",
       " '山下 香織,yokosuzuki@gmail.com,21,男,1,1',\n",
       " '山田 涼平,jyamamoto@gmail.com,20,女,3,4',\n",
       " '吉田 真綾,atsushishimizu@yahoo.com,33,男,5,3',\n",
       " '小林 英樹,ryohei39@ito.com,50,女,4,1',\n",
       " '橋本 翼,nsato@yahoo.com,55,男,5,1',\n",
       " '佐々木 裕美子,takumakobayashi@gmail.com,41,男,4,2',\n",
       " '中村 幹,usato@takahashi.net,51,男,3,5',\n",
       " '橋本 京助,naotosasaki@yahoo.com,65,男,4,1',\n",
       " '山崎 陽子,hiroshi86@yamaguchi.jp,67,女,5,4',\n",
       " '山崎 英樹,tomoyayoshida@suzuki.jp,32,女,1,3',\n",
       " '松田 裕美子,oota@yahoo.com,26,男,2,1',\n",
       " '石川 七夏,sakamotoryohei@yahoo.com,55,男,4,3',\n",
       " '松本 翼,mituru79@sato.jp,26,男,2,4',\n",
       " '森 洋介,asukayamamoto@ikeda.com,59,男,1,3',\n",
       " '斎藤 あすか,taichimurakami@gmail.com,43,男,5,5',\n",
       " '遠藤 直人,zmatsuda@yahoo.com,56,女,1,3',\n",
       " '佐々木 春香,sayuri80@nakamura.net,31,男,1,5',\n",
       " '佐々木 裕美子,kobayashisatomi@takahashi.jp,34,男,5,2',\n",
       " '長谷川 聡太郎,taroyamazaki@okada.com,25,男,5,2',\n",
       " '村上 太郎,itonaoko@yoshida.jp,58,女,1,1',\n",
       " '林 健一,osamutanaka@hotmail.com,57,女,3,5',\n",
       " '山本 七夏,ksuzuki@ito.com,59,男,2,2',\n",
       " '村上 幹,kaorihashimoto@gmail.com,42,男,1,4',\n",
       " '太田 充,yamamotoyosuke@gmail.com,34,男,1,2',\n",
       " '山口 稔,fnishimura@ota.com,26,男,1,5',\n",
       " '佐藤 涼平,hidekisaito@gmail.com,51,女,5,5',\n",
       " '佐藤 里佳,yasuhiro71@suzuki.com,38,男,4,5',\n",
       " '吉田 七夏,fujiwarataichi@hotmail.com,28,男,1,2',\n",
       " '吉田 香織,pnakamura@yahoo.com,24,男,5,2',\n",
       " '伊藤 くみ子,abeyoko@hotmail.com,30,男,5,4',\n",
       " '岡田 幹,tanakaasuka@goto.org,35,男,5,1',\n",
       " '松田 聡太郎,taroabe@sato.com,46,男,4,2',\n",
       " '長谷川 直人,satosayuri@yamazaki.org,43,女,4,5',\n",
       " '岡本 舞,umurakami@kato.jp,45,男,1,5',\n",
       " '小林 さゆり,momoko11@yahoo.com,61,男,4,4',\n",
       " '伊藤 千代,jyoshida@miura.com,33,男,2,2',\n",
       " '中島 結衣,kobayashimaaya@gmail.com,52,男,4,2',\n",
       " '高橋 英樹,hanako251@hotmail.com,40,男,2,1',\n",
       " '佐藤 あすか,ffujii@hotmail.com,23,男,2,3',\n",
       " '渡辺 淳,yoko20@nakamura.jp,31,男,3,2',\n",
       " '松田 明美,ryoheimurakami@yahoo.com,43,女,5,5',\n",
       " '佐藤 真綾,tanakanaoki@hotmail.com,28,女,3,4',\n",
       " '遠藤 美加子,kenichiito@gmail.com,63,男,3,1',\n",
       " '後藤 七夏,kaoki@gmail.com,28,女,5,1',\n",
       " '高橋 英樹,lyamaguchi@hotmail.com,20,男,5,1',\n",
       " '後藤 充,atsushitanaka@yahoo.com,65,女,5,1',\n",
       " '伊藤 舞,iyoshida@sasaki.jp,40,女,3,1',\n",
       " '三浦 翼,yoshidayumiko@suzuki.com,57,女,3,2',\n",
       " '田中 洋介,ryohei07@yamashita.jp,48,女,1,2',\n",
       " '渡辺 充,satonaoki@yamashita.jp,57,男,4,5',\n",
       " '小川 千代,naokosato@yamada.com,40,男,3,4',\n",
       " '中川 千代,hidekisato@hotmail.com,50,女,5,3',\n",
       " '伊藤 英樹,takahashimai@watanabe.com,66,女,3,4',\n",
       " '木村 春香,smatsumoto@hotmail.com,26,女,4,1',\n",
       " '長谷川 くみ子,suzukinaoto@shimizu.com,21,男,4,3',\n",
       " '高橋 花子,dwatanabe@gmail.com,42,女,1,1',\n",
       " '太田 加奈,nanamifukuda@yahoo.com,46,男,4,2',\n",
       " '西村 花子,taichi71@ikeda.com,38,女,2,4',\n",
       " '斎藤 修平,bkondo@yoshida.com,58,女,3,5',\n",
       " '渡辺 直子,akemisasaki@hotmail.com,64,男,2,1',\n",
       " '田中 真綾,kyosukewatanabe@kimura.com,56,男,5,3',\n",
       " '伊藤 里佳,naoki80@gmail.com,40,女,2,3',\n",
       " '藤田 七夏,takahashisayuri@tanaka.com,48,男,1,5',\n",
       " '石川 亮介,morimanabu@okamoto.jp,64,女,1,2',\n",
       " '渡辺 陽子,nanamiaoki@hotmail.com,31,女,3,1',\n",
       " '中川 真綾,fito@nakamura.com,32,女,3,4',\n",
       " '山本 あすか,htanaka@sato.jp,36,男,4,5',\n",
       " '山田 知実,itokazuya@yahoo.com,35,女,5,2',\n",
       " '松田 裕美子,minoru16@sato.com,27,女,1,1',\n",
       " '坂本 幹,satoakemi@yahoo.com,22,男,5,4',\n",
       " '山崎 晃,tanakananami@yamashita.com,32,女,2,5',\n",
       " '田中 涼平,matsudajun@gmail.com,42,男,3,2',\n",
       " '斎藤 学,fyamaguchi@sato.com,20,女,2,1',\n",
       " '阿部 健一,qsuzuki@gmail.com,53,女,5,2',\n",
       " '田中 花子,wsato@yahoo.com,57,男,3,5',\n",
       " '鈴木 花子,qnishimura@hashimoto.com,56,男,4,3',\n",
       " '坂本 篤司,satomaaya@hotmail.com,33,女,5,1',\n",
       " '加藤 充,taroshimizu@kobayashi.com,61,男,3,4',\n",
       " '三浦 真綾,kazuya12@aoki.jp,47,男,5,4',\n",
       " '田中 直子,juntakahashi@gmail.com,62,男,1,3',\n",
       " '吉田 陽子,maaya96@yahoo.com,35,女,1,2',\n",
       " '池田 加奈,maayaokamoto@takahashi.com,29,女,1,2',\n",
       " '高橋 結衣,cendo@hotmail.com,29,女,3,3',\n",
       " '鈴木 学,ryosukeokamoto@yahoo.com,32,女,1,1',\n",
       " '高橋 花子,manabunakajima@shimizu.jp,45,女,1,4',\n",
       " '福田 洋介,dogawa@hashimoto.jp,47,男,4,2',\n",
       " '池田 太一,wfujita@watanabe.jp,61,女,4,1',\n",
       " '岡本 淳,nanami31@saito.org,24,男,3,1',\n",
       " '岡田 亮介,kumikosasaki@watanabe.com,56,女,4,4',\n",
       " '近藤 裕樹,naokosato@gmail.com,37,女,3,3',\n",
       " '遠藤 美加子,watanabehiroshi@gmail.com,56,女,3,3',\n",
       " '近藤 和也,yutaishii@hotmail.com,27,女,5,1',\n",
       " '山本 稔,yui95@nakagawa.com,49,女,1,5',\n",
       " '高橋 智也,hidekikato@yahoo.com,25,男,4,4',\n",
       " '佐々木 真綾,hidekifukuda@fujita.jp,48,男,4,2',\n",
       " '森 稔,wyamamoto@endo.jp,39,男,1,2',\n",
       " '佐藤 和也,swatanabe@yahoo.com,42,女,3,1',\n",
       " '佐藤 花子,osamu16@hotmail.com,53,女,2,3',\n",
       " '遠藤 あすか,pnishimura@kato.com,42,男,2,3',\n",
       " '井上 陽子,zito@sato.com,44,女,3,4',\n",
       " '加藤 晃,rhasegawa@suzuki.jp,67,女,1,5',\n",
       " '後藤 零,unakamura@saito.org,64,女,5,1',\n",
       " '小林 学,tsubasa14@yahoo.com,26,男,2,1',\n",
       " '石井 七夏,taichisaito@hotmail.com,51,男,1,1',\n",
       " '福田 太郎,mituruaoki@sato.jp,41,男,3,3',\n",
       " '池田 真綾,shimizukana@yahoo.com,40,女,4,2',\n",
       " '林 春香,kana04@hotmail.com,52,女,2,5',\n",
       " '岡本 直樹,minoruabe@nishimura.com,46,女,4,5',\n",
       " '清水 翼,yabe@takahashi.org,54,男,1,5',\n",
       " '後藤 智也,nishimuramanabu@yahoo.com,34,女,4,5',\n",
       " '渡辺 淳,yamashitaharuka@mori.com,45,男,3,2',\n",
       " '清水 花子,kumikosato@yahoo.com,22,男,1,2',\n",
       " '山田 舞,kaori44@hotmail.com,20,男,5,4',\n",
       " '小林 幹,taro61@ota.net,50,男,3,5',\n",
       " '山崎 桃子,tanakayasuhiro@tanaka.jp,31,男,1,2',\n",
       " '藤田 智也,otamituru@watanabe.jp,27,男,3,4',\n",
       " '伊藤 篤司,nakamurasotaro@gmail.com,27,男,1,4',\n",
       " '小林 直人,zyamada@yahoo.com,32,女,4,4',\n",
       " '伊藤 和也,likeda@suzuki.jp,46,男,3,5',\n",
       " '小林 浩,tishikawa@gmail.com,49,女,4,1',\n",
       " '阿部 花子,maikobayashi@hotmail.com,53,男,4,2',\n",
       " '佐藤 稔,yamamotoharuka@gmail.com,49,女,2,2',\n",
       " '吉田 さゆり,miuratakuma@gmail.com,40,女,1,1',\n",
       " '佐藤 陽子,gsakamoto@gmail.com,68,男,2,3',\n",
       " '山本 裕美子,aokamoto@gmail.com,62,男,3,5',\n",
       " '佐藤 美加子,akemi46@yamaguchi.jp,44,女,5,5',\n",
       " '池田 直人,xsato@hayashi.jp,29,男,3,4',\n",
       " '高橋 舞,lyoshida@yamamoto.com,28,男,4,3',\n",
       " '池田 裕美子,nmatsuda@takahashi.net,34,女,3,2',\n",
       " '藤原 知実,sayuriinoue@kobayashi.jp,50,男,5,2',\n",
       " '小川 加奈,ryoheinakamura@suzuki.jp,22,男,1,1',\n",
       " '松本 加奈,haruka05@gmail.com,68,男,1,1',\n",
       " '佐藤 裕太,taroyamamoto@inoue.org,44,女,3,3',\n",
       " '斎藤 康弘,mai14@gmail.com,28,男,5,1',\n",
       " '佐藤 知実,manabu16@hotmail.com,26,男,4,1',\n",
       " '佐藤 篤司,yoichi99@takahashi.jp,38,女,4,5',\n",
       " '中島 明美,kobayashijun@gmail.com,26,男,3,5',\n",
       " '高橋 裕樹,osato@hotmail.com,48,女,4,1',\n",
       " '前田 知実,hanakosato@nishimura.com,29,男,4,2',\n",
       " '井上 さゆり,saitokyosuke@hotmail.com,32,女,5,1',\n",
       " '佐々木 花子,lnakamura@kimura.jp,32,女,4,2',\n",
       " '斎藤 花子,hashimotokumiko@fukuda.com,23,男,2,5',\n",
       " '藤井 千代,syoshida@gmail.com,43,男,3,1',\n",
       " '佐藤 知実,kazuyakato@kato.jp,31,男,5,5',\n",
       " '吉田 京助,rei95@yamazaki.com,38,女,4,5',\n",
       " '山田 舞,yamamotokazuya@hotmail.com,67,男,4,3',\n",
       " '村上 明美,vkobayashi@hotmail.com,56,女,2,3',\n",
       " '鈴木 舞,yasuhiro70@yamaguchi.jp,30,女,5,3',\n",
       " '佐藤 千代,itomomoko@yahoo.com,21,男,4,3',\n",
       " '山本 太一,rfukuda@suzuki.net,56,女,1,5',\n",
       " '吉田 陽子,taroyamada@gmail.com,59,女,1,3',\n",
       " '松本 千代,mikako30@yahoo.com,51,女,2,2',\n",
       " '田中 学,maiwatanabe@hayashi.com,37,男,2,1',\n",
       " '松本 淳,kimuratakuma@ishikawa.com,42,女,4,5',\n",
       " '中島 舞,bhasegawa@shimizu.net,40,男,2,1',\n",
       " '西村 陽一,akemi25@hotmail.com,58,女,5,1',\n",
       " '岡田 明美,owatanabe@hotmail.com,31,男,3,3',\n",
       " '青木 さゆり,watanabenaoki@mori.com,49,男,5,4',\n",
       " '吉田 七夏,junishikawa@hayashi.org,68,男,2,4',\n",
       " '長谷川 涼平,hashimotoatsushi@yahoo.com,31,女,1,5',\n",
       " '小林 零,hideki15@gmail.com,48,女,5,1',\n",
       " '鈴木 修平,matsumotoosamu@yamazaki.com,45,女,3,3',\n",
       " '石井 零,kenichi83@murakami.com,30,男,3,3',\n",
       " '鈴木 裕太,yui72@miura.net,35,男,5,4',\n",
       " '山下 直子,ryoheihashimoto@gmail.com,28,女,5,1',\n",
       " '藤井 和也,yuta219@gmail.com,34,男,2,4',\n",
       " '高橋 洋介,miturukato@ogawa.com,28,女,2,2',\n",
       " '前田 英樹,akira52@hotmail.com,54,男,5,5',\n",
       " '前田 陽子,kishikawa@gmail.com,44,女,1,5',\n",
       " '林 聡太郎,sayuri63@gmail.com,60,男,3,2',\n",
       " '木村 くみ子,yoshidayoichi@yamamoto.com,53,男,1,2',\n",
       " '山本 浩,chiyomatsumoto@yahoo.com,65,男,4,5',\n",
       " '高橋 幹,hiroshiokada@ogawa.org,62,男,2,2',\n",
       " '吉田 稔,akemi92@yamamoto.net,21,男,1,5',\n",
       " '松本 加奈,mikakoyamaguchi@hotmail.com,58,女,4,4',\n",
       " '吉田 治,haruka92@sato.jp,64,女,4,5',\n",
       " '井上 陽子,kobayashishohei@nakajima.org,55,女,3,5',\n",
       " '斎藤 幹,kimurataro@nakamura.com,39,男,2,2',\n",
       " '福田 桃子,satomisato@maeda.com,36,女,1,1',\n",
       " '佐藤 智也,yuta29@gmail.com,52,男,5,3',\n",
       " '吉田 知実,yasuhiroyamamoto@suzuki.com,43,女,4,4',\n",
       " '岡本 美加子,dinoue1@hotmail.com,64,女,5,1',\n",
       " '阿部 七夏,yuki27@yoshida.com,53,男,2,1',\n",
       " '加藤 明美,kenichi19@tanaka.org,20,男,2,2',\n",
       " '高橋 拓真,yamadahideki@hotmail.com,37,女,4,4',\n",
       " '山田 あすか,tsubasasuzuki@sato.jp,33,男,4,3',\n",
       " '鈴木 千代,katosatomi@saito.com,55,男,4,3',\n",
       " '山崎 七夏,nakamurakazuya@gmail.com,53,男,5,3',\n",
       " '鈴木 舞,nwatanabe@takahashi.com,68,男,2,3',\n",
       " '藤田 翔太,kazuya47@hotmail.com,35,女,1,3',\n",
       " '高橋 康弘,katominoru@yamada.com,41,男,1,4',\n",
       " '木村 学,chiyo11@hotmail.com,34,男,5,4',\n",
       " '山崎 充,tyamamoto@gmail.com,51,女,1,2',\n",
       " '西村 晃,ysuzuki@nishimura.org,46,男,3,2',\n",
       " '小川 春香,nakagawamituru@kondo.jp,35,女,3,5',\n",
       " '橋本 智也,ikedachiyo@nakamura.jp,44,女,5,5',\n",
       " '佐々木 陽一,hiroshiokamoto@yahoo.com,56,男,4,4',\n",
       " '池田 花子,rei73@yahoo.com,33,女,5,3',\n",
       " '伊藤 稔,mkobayashi@aoki.jp,61,男,3,5',\n",
       " '高橋 太郎,kaoriito@hotmail.com,41,女,3,2',\n",
       " '木村 結衣,satomitanaka@kobayashi.jp,31,女,5,1',\n",
       " '前田 浩,fujiwarakazuya@kondo.com,29,女,4,1',\n",
       " '松田 真綾,yumikonakamura@murakami.net,52,男,1,3',\n",
       " '松本 美加子,rei13@gmail.com,28,男,2,3',\n",
       " '小川 直子,matsudaminoru@sasaki.jp,61,女,4,1',\n",
       " '福田 七夏,jsasaki@saito.jp,49,男,3,1',\n",
       " '山口 晃,ayamashita@yahoo.com,53,男,3,1',\n",
       " '佐々木 英樹,yamamotomaaya@watanabe.com,27,男,4,2',\n",
       " '小林 智也,kobayashijun@hotmail.com,52,男,5,1',\n",
       " '佐藤 陽子,satonanami@yahoo.com,63,男,2,4',\n",
       " '石川 七夏,akemi17@takahashi.com,22,男,5,1',\n",
       " '山口 あすか,yui69@nakamura.net,43,女,5,3',\n",
       " '山下 結衣,gsato@hotmail.com,39,男,1,1',\n",
       " '田中 裕樹,asuka71@ito.com,62,女,3,1',\n",
       " '伊藤 裕太,umatsumoto@kobayashi.org,53,女,3,1',\n",
       " '伊藤 知実,aokitaro@fukuda.com,22,女,5,1',\n",
       " '伊藤 春香,mikimatsumoto@yahoo.com,67,女,5,1',\n",
       " '渡辺 明美,cfujii@gmail.com,53,男,3,5',\n",
       " '山田 花子,bkimura@hotmail.com,68,女,2,1',\n",
       " '斎藤 太郎,wmurakami@hotmail.com,30,男,5,5',\n",
       " '松本 知実,uyamamoto@yahoo.com,35,女,1,2',\n",
       " '佐藤 太郎,yoko73@sato.net,33,男,5,5',\n",
       " '渡辺 幹,xyamamoto@yahoo.com,53,女,4,2',\n",
       " '山田 結衣,harukasato@sato.jp,52,男,5,5',\n",
       " '中島 桃子,tanakananami@gmail.com,35,男,5,2',\n",
       " '伊藤 加奈,hiroshitakahashi@yamada.com,40,女,3,1',\n",
       " '伊藤 直人,ryosukematsumoto@hotmail.com,34,女,2,3',\n",
       " '山口 陽一,dsasaki@yamashita.com,54,女,2,2',\n",
       " '長谷川 聡太郎,harukawatanabe@matsumoto.jp,40,男,2,4',\n",
       " '渡辺 京助,akemiwatanabe@hotmail.com,53,男,2,4',\n",
       " '山本 充,satonaoto@yahoo.com,29,女,5,4',\n",
       " '加藤 香織,xwatanabe@takahashi.net,53,男,1,4',\n",
       " '長谷川 真綾,matsudarika@murakami.com,37,女,1,4',\n",
       " '池田 充,satohanako@aoki.jp,29,女,1,2',\n",
       " '佐々木 幹,yamamotoatsushi@gmail.com,42,男,4,1',\n",
       " '山崎 康弘,mhayashi@hotmail.com,21,女,1,4',\n",
       " '林 充,pfujita@ito.jp,68,男,2,1',\n",
       " '清水 裕太,takumasuzuki@gmail.com,53,女,4,2',\n",
       " '佐藤 幹,xmatsumoto@shimizu.net,53,男,5,4',\n",
       " '山本 康弘,smurakami@inoue.jp,60,男,1,4',\n",
       " '後藤 明美,naokomori@kondo.jp,45,男,1,3',\n",
       " '長谷川 くみ子,yokoyamaguchi@yahoo.com,30,男,3,3',\n",
       " '松田 幹,nanami21@yahoo.com,47,男,5,2',\n",
       " '石井 充,naokoyoshida@nishimura.com,59,男,5,4',\n",
       " '藤原 千代,kananakamura@sato.org,47,男,3,4',\n",
       " '林 涼平,takahashiyuta@gmail.com,61,男,1,2']"
      ]
     },
     "execution_count": 25,
     "metadata": {},
     "output_type": "execute_result"
    }
   ],
   "source": [
    "origin_rdd_1.collect()"
   ]
  },
  {
   "cell_type": "markdown",
   "id": "563a5366-41d5-4148-8f63-50e356370db6",
   "metadata": {
    "tags": []
   },
   "source": [
    "# 満足度・会場評価が9点以上の来場者名・アドレス一覧"
   ]
  },
  {
   "cell_type": "code",
   "execution_count": 7,
   "id": "22f62336-a8dd-4b91-b760-2ad96d8d4dc2",
   "metadata": {},
   "outputs": [],
   "source": [
    "# 結合\n",
    "union_rdd = origin_rdd_1.union(origin_rdd_2)"
   ]
  },
  {
   "cell_type": "code",
   "execution_count": 8,
   "id": "4edc8dbb-91c2-4687-9226-52dd80db73eb",
   "metadata": {},
   "outputs": [],
   "source": [
    "union_rdd = union_rdd.union(origin_rdd_3)"
   ]
  },
  {
   "cell_type": "code",
   "execution_count": 9,
   "id": "eab37b3e-5935-4eac-9390-62b24324d999",
   "metadata": {},
   "outputs": [],
   "source": [
    "# レコードをカンマ区切りで分割\n",
    "new_rdd = union_rdd.map(lambda x: x.split(','))"
   ]
  },
  {
   "cell_type": "code",
   "execution_count": 10,
   "id": "d7d50dcf-5030-4667-9edc-ff6cfdc2a611",
   "metadata": {},
   "outputs": [],
   "source": [
    "# (メールアドレス，[満足度，会場評価])に変換\n",
    "new_rdd = new_rdd.map(lambda x: (x[1], [x[4], x[5]]))"
   ]
  },
  {
   "cell_type": "code",
   "execution_count": 11,
   "id": "f3c0f631-4a82-4e83-9781-546a882ee33d",
   "metadata": {},
   "outputs": [],
   "source": [
    "# 総合評価値を計算\n",
    "new_rdd = new_rdd.mapValues(lambda x: int(x[0]) + int(x[1]))"
   ]
  },
  {
   "cell_type": "code",
   "execution_count": 12,
   "id": "e06542d4-a1b3-48ce-ba3b-d894352c49a9",
   "metadata": {},
   "outputs": [],
   "source": [
    "# 9点以上を選出\n",
    "new_rdd = new_rdd.filter(lambda x: x[1] >= 9)"
   ]
  },
  {
   "cell_type": "code",
   "execution_count": 13,
   "id": "8812e236-e901-43b9-8046-6f98354088d2",
   "metadata": {},
   "outputs": [],
   "source": [
    "# 名前とメールアドレスを取得する\n",
    "join_rdd = union_rdd.map(lambda x: (x.split(',')[1], x.split(',')[0]))"
   ]
  },
  {
   "cell_type": "code",
   "execution_count": 14,
   "id": "c1c889f1-7b97-47e9-b55b-40c7265fa3e9",
   "metadata": {},
   "outputs": [],
   "source": [
    "result_rdd = join_rdd.join(new_rdd).map(lambda x: (x[1][0], x[0]))"
   ]
  },
  {
   "cell_type": "code",
   "execution_count": 15,
   "id": "b2b920cd-9ff9-4053-8a61-3ee47129dda1",
   "metadata": {},
   "outputs": [],
   "source": [
    "result = result_rdd.collect()"
   ]
  },
  {
   "cell_type": "code",
   "execution_count": 16,
   "id": "e29905d2-8f88-4355-95f0-637d84984c27",
   "metadata": {
    "collapsed": true,
    "jupyter": {
     "outputs_hidden": true
    },
    "tags": []
   },
   "outputs": [
    {
     "data": {
      "text/plain": [
       "[('高橋 修平', 'suzukisayuri@fujii.jp'),\n",
       " ('山口 舞', 'satokyosuke@takahashi.org'),\n",
       " ('山崎 陽子', 'hiroshi86@yamaguchi.jp'),\n",
       " ('伊藤 くみ子', 'abeyoko@hotmail.com'),\n",
       " ('岡本 直樹', 'minoruabe@nishimura.com'),\n",
       " ('吉田 京助', 'rei95@yamazaki.com'),\n",
       " ('前田 英樹', 'akira52@hotmail.com'),\n",
       " ('斎藤 太郎', 'wmurakami@hotmail.com'),\n",
       " ('佐藤 太郎', 'yoko73@sato.net'),\n",
       " ('佐藤 幹', 'xmatsumoto@shimizu.net'),\n",
       " ('高橋 洋介', 'naoto70@yahoo.com'),\n",
       " ('山下 あすか', 'lkobayashi@gmail.com'),\n",
       " ('佐藤 里佳', 'taroyoshida@takahashi.jp'),\n",
       " ('佐藤 裕美子', 'satomiyamaguchi@suzuki.com'),\n",
       " ('伊藤 七夏', 'bfujii@hotmail.com'),\n",
       " ('橋本 結衣', 'inouekaori@yahoo.com'),\n",
       " ('山崎 あすか', 'yumiko77@gmail.com'),\n",
       " ('田中 結衣', 'hidekisakamoto@ikeda.jp'),\n",
       " ('小林 和也', 'owatanabe@ito.net'),\n",
       " ('阿部 洋介', 'manabusato@yahoo.com'),\n",
       " ('橋本 舞', 'yuta53@ogawa.com'),\n",
       " ('中島 花子', 'suzukitaichi@hotmail.com'),\n",
       " ('林 直樹', 'kenichi45@gmail.com'),\n",
       " ('石井 篤司', 'harukaito@hotmail.com'),\n",
       " ('中村 修平', 'eyamamoto@fujii.jp'),\n",
       " ('橋本 千代', 'jun11@okada.com'),\n",
       " ('長谷川 直人', 'satosayuri@yamazaki.org'),\n",
       " ('松田 明美', 'ryoheimurakami@yahoo.com'),\n",
       " ('坂本 幹', 'satoakemi@yahoo.com'),\n",
       " ('石井 充', 'naokoyoshida@nishimura.com'),\n",
       " ('山口 花子', 'msasaki@hotmail.com'),\n",
       " ('山田 知実', 'osamufukuda@okada.jp'),\n",
       " ('佐藤 翼', 'rfujiwara@okada.org'),\n",
       " ('長谷川 くみ子', 'ryoheiyamada@yahoo.com'),\n",
       " ('中村 稔', 'inouemaaya@yahoo.com'),\n",
       " ('池田 裕樹', 'msato@hotmail.com'),\n",
       " ('鈴木 洋介', 'uokada@inoue.com'),\n",
       " ('佐藤 浩', 'tanakatakuma@hotmail.com'),\n",
       " ('山下 裕太', 'satomi36@gmail.com'),\n",
       " ('山田 幹', 'hkobayashi@yamazaki.com'),\n",
       " ('田中 加奈', 'maaya52@fujii.com'),\n",
       " ('岡本 裕樹', 'takumatakahashi@hotmail.com'),\n",
       " ('佐藤 直樹', 'atsushinakamura@hotmail.com'),\n",
       " ('近藤 康弘', 'suzukikumiko@yahoo.com'),\n",
       " ('石川 稔', 'momokofujita@gmail.com'),\n",
       " ('林 陽子', 'kana85@hotmail.com'),\n",
       " ('石川 舞', 'yuisaito@hotmail.com'),\n",
       " ('井上 くみ子', 'tomoyakobayashi@gmail.com'),\n",
       " ('佐藤 涼平', 'hidekisaito@gmail.com'),\n",
       " ('山本 浩', 'chiyomatsumoto@yahoo.com'),\n",
       " ('中村 舞', 'minoue@yahoo.com'),\n",
       " ('佐藤 舞', 'kaori75@gmail.com'),\n",
       " ('佐々木 花子', 'harukasuzuki@yahoo.com'),\n",
       " ('中村 結衣', 'miki67@kondo.jp'),\n",
       " ('井上 千代', 'shota77@yahoo.com'),\n",
       " ('村上 陽一', 'aokiryosuke@gmail.com'),\n",
       " ('佐藤 結衣', 'otakahashi@hotmail.com'),\n",
       " ('前田 さゆり', 'maayatanaka@sasaki.com'),\n",
       " ('池田 直人', 'okadaharuka@hotmail.com'),\n",
       " ('坂本 裕太', 'qmatsumoto@yamada.com'),\n",
       " ('鈴木 真綾', 'satotomoya@hotmail.com'),\n",
       " ('福田 健一', 'hayashiyoko@aoki.com'),\n",
       " ('山田 花子', 'ryosuke83@gmail.com'),\n",
       " ('中島 加奈', 'atsushiinoue@kato.jp'),\n",
       " ('斎藤 あすか', 'taichimurakami@gmail.com'),\n",
       " ('渡辺 充', 'satonaoki@yamashita.jp'),\n",
       " ('山本 あすか', 'htanaka@sato.jp'),\n",
       " ('三浦 真綾', 'kazuya12@aoki.jp'),\n",
       " ('佐藤 篤司', 'yoichi99@takahashi.jp'),\n",
       " ('松本 淳', 'kimuratakuma@ishikawa.com'),\n",
       " ('青木 さゆり', 'watanabenaoki@mori.com'),\n",
       " ('橋本 智也', 'ikedachiyo@nakamura.jp'),\n",
       " ('山田 結衣', 'harukasato@sato.jp'),\n",
       " ('阿部 稔', 'ksasaki@yoshida.com'),\n",
       " ('高橋 裕美子', 'haruka84@kobayashi.com'),\n",
       " ('山崎 春香', 'kyosuke79@yahoo.com'),\n",
       " ('中島 桃子', 'wyamamoto@murakami.jp'),\n",
       " ('山田 直樹', 'mikakotakahashi@yahoo.com'),\n",
       " ('山田 花子', 'yuta56@suzuki.jp'),\n",
       " ('近藤 くみ子', 'miturusuzuki@fujii.net'),\n",
       " ('斉藤 京助', 'tanakatomoya@yahoo.com'),\n",
       " ('渡辺 太一', 'uyamada@nakamura.jp'),\n",
       " ('吉田 裕美子', 'rei50@aoki.com'),\n",
       " ('林 裕美子', 'anakagawa@hotmail.com'),\n",
       " ('吉田 さゆり', 'yosuke49@maeda.com'),\n",
       " ('中村 桃子', 'sayurikondo@hotmail.com'),\n",
       " ('山崎 稔', 'kaori57@hotmail.com'),\n",
       " ('佐藤 里佳', 'yasuhiro71@suzuki.com'),\n",
       " ('後藤 智也', 'nishimuramanabu@yahoo.com'),\n",
       " ('鈴木 裕太', 'yui72@miura.net'),\n",
       " ('山本 充', 'satonaoto@yahoo.com'),\n",
       " ('林 七夏', 'satomi33@hotmail.com'),\n",
       " ('高橋 知実', 'yamaguchishohei@yamazaki.com'),\n",
       " ('井上 淳', 'yutatakahashi@watanabe.com'),\n",
       " ('佐々木 裕美子', 'zkato@matsumoto.org'),\n",
       " ('前田 亮介', 'ikedakumiko@hotmail.com'),\n",
       " ('伊藤 裕美子', 'hanakosuzuki@yahoo.com'),\n",
       " ('山口 裕樹', 'sotaro24@suzuki.org'),\n",
       " ('伊藤 稔', 'kyosuke32@gmail.com'),\n",
       " ('田中 真綾', 'ryosukeyamamoto@gmail.com'),\n",
       " ('藤原 春香', 'taro23@hotmail.com'),\n",
       " ('田中 裕太', 'saoki@suzuki.jp'),\n",
       " ('岡本 零', 'mai38@mori.jp'),\n",
       " ('山口 治', 'zwatanabe@gmail.com'),\n",
       " ('斎藤 京助', 'katoyoichi@hotmail.com'),\n",
       " ('中川 桃子', 'mituruikeda@gmail.com'),\n",
       " ('山田 舞', 'kaori44@hotmail.com'),\n",
       " ('佐藤 美加子', 'akemi46@yamaguchi.jp'),\n",
       " ('佐藤 知実', 'kazuyakato@kato.jp'),\n",
       " ('吉田 治', 'haruka92@sato.jp'),\n",
       " ('木村 学', 'chiyo11@hotmail.com'),\n",
       " ('吉田 聡太郎', 'yamazakiatsushi@sasaki.jp'),\n",
       " ('西村 あすか', 'yamaguchimituru@yahoo.com'),\n",
       " ('松田 里佳', 'aokikana@tanaka.com'),\n",
       " ('佐藤 幹', 'satomikako@tanaka.jp'),\n",
       " ('井上 桃子', 'fyoshida@okada.jp'),\n",
       " ('山本 翔太', 'kaoriishii@gmail.com'),\n",
       " ('藤田 裕美子', 'hashimotorika@kondo.com'),\n",
       " ('小林 聡太郎', 'asuka77@kimura.org'),\n",
       " ('佐藤 七夏', 'suzukiyosuke@matsumoto.jp'),\n",
       " ('後藤 幹', 'naotoogawa@kimura.com')]"
      ]
     },
     "execution_count": 16,
     "metadata": {},
     "output_type": "execute_result"
    }
   ],
   "source": [
    "result"
   ]
  },
  {
   "cell_type": "markdown",
   "id": "1b5b77c9-ee7a-4361-a815-f30940ed2d99",
   "metadata": {},
   "source": [
    "# 男性・女性のイベント満足度の平均点"
   ]
  },
  {
   "cell_type": "code",
   "execution_count": 17,
   "id": "62ff2129-ebf4-4480-a21e-2fe07576fef1",
   "metadata": {},
   "outputs": [],
   "source": [
    "def one_day_man_woman_eval(origin_rdd):\n",
    "    new_rdd = origin_rdd.map(lambda x: x.split(','))\n",
    "    man_rdd = new_rdd.filter(lambda x: x[3]=='男')\n",
    "    woman_rdd = new_rdd.filter(lambda x: x[3]=='女')\n",
    "    man_rdd = man_rdd.map(lambda x: int(x[4]))\n",
    "    woman_rdd = woman_rdd.map(lambda x: int(x[4]))\n",
    "    man_result = man_rdd.mean()\n",
    "    woman_result = woman_rdd.mean()\n",
    "    \n",
    "    return man_result, woman_result"
   ]
  },
  {
   "cell_type": "code",
   "execution_count": 18,
   "id": "7ed4df3b-1ddc-4d0e-a376-c49f2db281ec",
   "metadata": {},
   "outputs": [
    {
     "data": {
      "text/plain": [
       "(3.053571428571427, 3.0909090909090904)"
      ]
     },
     "execution_count": 18,
     "metadata": {},
     "output_type": "execute_result"
    }
   ],
   "source": [
    "one_day_man_woman_eval(origin_rdd_1)"
   ]
  },
  {
   "cell_type": "code",
   "execution_count": 19,
   "id": "88b4de13-7d91-4ecf-a25d-fe4ffb5666e5",
   "metadata": {},
   "outputs": [
    {
     "data": {
      "text/plain": [
       "(3.111111111111111, 2.904761904761905)"
      ]
     },
     "execution_count": 19,
     "metadata": {},
     "output_type": "execute_result"
    }
   ],
   "source": [
    "one_day_man_woman_eval(origin_rdd_2)"
   ]
  },
  {
   "cell_type": "code",
   "execution_count": 20,
   "id": "c394bfac-ccda-433c-926e-793073e33ee4",
   "metadata": {},
   "outputs": [
    {
     "data": {
      "text/plain": [
       "(3.1319444444444446, 2.9807692307692313)"
      ]
     },
     "execution_count": 20,
     "metadata": {},
     "output_type": "execute_result"
    }
   ],
   "source": [
    "one_day_man_woman_eval(origin_rdd_3)"
   ]
  },
  {
   "cell_type": "markdown",
   "id": "f59e405c-100b-4feb-a5fc-1a85f8ce4553",
   "metadata": {},
   "source": [
    "# 年代別のイベント満足度の平均点と評価が高い年代"
   ]
  },
  {
   "cell_type": "code",
   "execution_count": 64,
   "id": "aaa39c8d-35c4-493e-80d9-034a0c31b9b6",
   "metadata": {},
   "outputs": [],
   "source": [
    "union_rdd = origin_rdd_1.union(origin_rdd_2)"
   ]
  },
  {
   "cell_type": "code",
   "execution_count": 65,
   "id": "6468889f-7c84-4d88-98d1-1d722075006d",
   "metadata": {},
   "outputs": [],
   "source": [
    "union_rdd = union_rdd.union(origin_rdd_3)"
   ]
  },
  {
   "cell_type": "code",
   "execution_count": 66,
   "id": "e032336f-717b-4713-b501-331c4dd554a7",
   "metadata": {},
   "outputs": [],
   "source": [
    "new_rdd = union_rdd.map(lambda x: x.split(','))"
   ]
  },
  {
   "cell_type": "code",
   "execution_count": 67,
   "id": "c3e0c394-ceed-4645-b1b7-79d5fbe230ed",
   "metadata": {},
   "outputs": [],
   "source": [
    "new_rdd = new_rdd.map(lambda x: (x[2][0] + '0', int(x[5])))"
   ]
  },
  {
   "cell_type": "code",
   "execution_count": 68,
   "id": "a1395c47-3cd0-4739-b52a-f23f364338bc",
   "metadata": {},
   "outputs": [],
   "source": [
    "grouped_rdd = new_rdd.groupByKey().mapValues(list)"
   ]
  },
  {
   "cell_type": "code",
   "execution_count": 69,
   "id": "de3cd711-ab9d-46b2-b1fb-b5c291110739",
   "metadata": {},
   "outputs": [],
   "source": [
    "mean_rdd = grouped_rdd.map(lambda x: (x[0], sum(x[1])/len(x[1])))"
   ]
  },
  {
   "cell_type": "code",
   "execution_count": 70,
   "id": "dcba3dd8-e788-4c5a-9a44-90c63d8f828e",
   "metadata": {},
   "outputs": [
    {
     "data": {
      "text/plain": [
       "[('40', 2.92),\n",
       " ('20', 2.9567567567567568),\n",
       " ('30', 3.0),\n",
       " ('60', 2.9342105263157894),\n",
       " ('50', 3.183246073298429)]"
      ]
     },
     "execution_count": 70,
     "metadata": {},
     "output_type": "execute_result"
    }
   ],
   "source": [
    "mean_rdd.collect()"
   ]
  },
  {
   "cell_type": "code",
   "execution_count": null,
   "id": "5ed05ca5-2e84-4568-bce5-8ab68ba67146",
   "metadata": {},
   "outputs": [],
   "source": []
  }
 ],
 "metadata": {
  "kernelspec": {
   "display_name": "Python 3 (ipykernel)",
   "language": "python",
   "name": "python3"
  },
  "language_info": {
   "codemirror_mode": {
    "name": "ipython",
    "version": 3
   },
   "file_extension": ".py",
   "mimetype": "text/x-python",
   "name": "python",
   "nbconvert_exporter": "python",
   "pygments_lexer": "ipython3",
   "version": "3.9.10"
  }
 },
 "nbformat": 4,
 "nbformat_minor": 5
}
