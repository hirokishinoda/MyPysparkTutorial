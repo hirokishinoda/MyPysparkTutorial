{
 "cells": [
  {
   "cell_type": "markdown",
   "id": "1450552d-5d7a-4ba3-b8ac-fbccf986dfa4",
   "metadata": {},
   "source": [
    "# Dataframe\n",
    "\n",
    "[reference1](https://blog.serverworks.co.jp/introducing-pyspark-5)\n",
    "\n",
    "[reference2](https://blog.serverworks.co.jp/introducing-pyspark-6)"
   ]
  },
  {
   "cell_type": "code",
   "execution_count": 1,
   "id": "82daefc3-f5ad-458b-b3b2-56c68027294f",
   "metadata": {},
   "outputs": [],
   "source": [
    "from pyspark.sql import SparkSession"
   ]
  },
  {
   "cell_type": "code",
   "execution_count": 2,
   "id": "e1a64835-435a-4fd6-a5ea-f198a4554ff6",
   "metadata": {},
   "outputs": [],
   "source": [
    "spark = SparkSession.builder.appName(\"example\").config(\"spark.some.config.option\", \"some-value\").getOrCreate()"
   ]
  },
  {
   "cell_type": "code",
   "execution_count": 3,
   "id": "98fa18dd-ebcc-41b0-a5fb-490d4368350a",
   "metadata": {},
   "outputs": [],
   "source": [
    "df = spark.read.load(\"data/people.csv\", format='csv', sep=',', inferScheme='true', header='true')"
   ]
  },
  {
   "cell_type": "code",
   "execution_count": 4,
   "id": "7af6fa28-d3e4-4e19-b637-d0c3d126d54f",
   "metadata": {},
   "outputs": [],
   "source": [
    "df.createOrReplaceTempView(\"people\")"
   ]
  },
  {
   "cell_type": "code",
   "execution_count": 5,
   "id": "56f0c33a-3db1-46e1-9a72-3fa1877d4451",
   "metadata": {},
   "outputs": [],
   "source": [
    "sqlDF = spark.sql(\"SELECT * FROM people\")"
   ]
  },
  {
   "cell_type": "code",
   "execution_count": 7,
   "id": "b46b196b-d35f-41ef-93c6-e8f6942df99a",
   "metadata": {},
   "outputs": [
    {
     "name": "stdout",
     "output_type": "stream",
     "text": [
      "+------+---+\n",
      "|  name|age|\n",
      "+------+---+\n",
      "|  Mike| 10|\n",
      "|  Andy| 20|\n",
      "|Justin| 30|\n",
      "+------+---+\n",
      "\n"
     ]
    }
   ],
   "source": [
    "sqlDF.show()"
   ]
  },
  {
   "cell_type": "code",
   "execution_count": 10,
   "id": "7704be13-e00d-4083-a096-02e2f140ddad",
   "metadata": {},
   "outputs": [],
   "source": [
    "df.createOrReplaceTempView(\"people\")"
   ]
  },
  {
   "cell_type": "code",
   "execution_count": 22,
   "id": "45d85c21-8cb9-45b5-a577-798009154edd",
   "metadata": {},
   "outputs": [],
   "source": [
    "query = \"\"\"\n",
    "SELECT * FROM people WHERE age > 20\n",
    "\"\"\""
   ]
  },
  {
   "cell_type": "code",
   "execution_count": 23,
   "id": "155795fe-ba9d-4974-9f04-30651ad765d6",
   "metadata": {},
   "outputs": [],
   "source": [
    "sqlDF = spark.sql(query)"
   ]
  },
  {
   "cell_type": "code",
   "execution_count": 24,
   "id": "eaf5aaf5-bd44-4fb1-b787-c51220692896",
   "metadata": {},
   "outputs": [
    {
     "name": "stdout",
     "output_type": "stream",
     "text": [
      "+------+---+\n",
      "|  name|age|\n",
      "+------+---+\n",
      "|Justin| 30|\n",
      "+------+---+\n",
      "\n"
     ]
    }
   ],
   "source": [
    "sqlDF.show()"
   ]
  },
  {
   "cell_type": "code",
   "execution_count": 15,
   "id": "9714033b-6c62-4f9e-ad96-f583ef5a5fa1",
   "metadata": {},
   "outputs": [
    {
     "name": "stdout",
     "output_type": "stream",
     "text": [
      "+------+\n",
      "|  name|\n",
      "+------+\n",
      "|  Mike|\n",
      "|  Andy|\n",
      "|Justin|\n",
      "+------+\n",
      "\n"
     ]
    }
   ],
   "source": [
    "df.select(\"name\").show()"
   ]
  },
  {
   "cell_type": "code",
   "execution_count": 17,
   "id": "0c472bea-f364-4a35-8663-f0fddeb32473",
   "metadata": {},
   "outputs": [
    {
     "name": "stdout",
     "output_type": "stream",
     "text": [
      "+------+---+\n",
      "|  name|age|\n",
      "+------+---+\n",
      "|Justin| 30|\n",
      "+------+---+\n",
      "\n"
     ]
    }
   ],
   "source": [
    "df.filter(df['age'] > 20).show()"
   ]
  },
  {
   "cell_type": "code",
   "execution_count": 18,
   "id": "c898bcb0-e5ce-4828-a2d4-c37015cb120b",
   "metadata": {},
   "outputs": [
    {
     "name": "stdout",
     "output_type": "stream",
     "text": [
      "+---+-----+\n",
      "|age|count|\n",
      "+---+-----+\n",
      "| 30|    1|\n",
      "| 20|    1|\n",
      "| 10|    1|\n",
      "+---+-----+\n",
      "\n"
     ]
    }
   ],
   "source": [
    "df.groupBy(\"age\").count().show()"
   ]
  },
  {
   "cell_type": "code",
   "execution_count": null,
   "id": "30c025cd-4be7-48ca-9de4-e5f2cfc80805",
   "metadata": {},
   "outputs": [],
   "source": []
  }
 ],
 "metadata": {
  "kernelspec": {
   "display_name": "Python 3 (ipykernel)",
   "language": "python",
   "name": "python3"
  },
  "language_info": {
   "codemirror_mode": {
    "name": "ipython",
    "version": 3
   },
   "file_extension": ".py",
   "mimetype": "text/x-python",
   "name": "python",
   "nbconvert_exporter": "python",
   "pygments_lexer": "ipython3",
   "version": "3.9.10"
  }
 },
 "nbformat": 4,
 "nbformat_minor": 5
}
